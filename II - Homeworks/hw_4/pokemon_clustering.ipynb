{
  "nbformat": 4,
  "nbformat_minor": 0,
  "metadata": {
    "colab": {
      "name": "pokemon_clustering.ipynb",
      "provenance": [],
      "collapsed_sections": [
        "zypUB07VhJhz"
      ]
    },
    "kernelspec": {
      "name": "python3",
      "display_name": "Python 3"
    },
    "language_info": {
      "name": "python"
    }
  },
  "cells": [
    {
      "cell_type": "markdown",
      "metadata": {
        "id": "1KjzoLKohEYQ"
      },
      "source": [
        "<img src=\"https://pbs.twimg.com/media/DEA1iygXsAAg7vC.jpg\"/>\n",
        "\n",
        "# **The Complete Pokemon Dataset | Clustering**\n",
        "----\n",
        "\n",
        "# Descripción  del conjunto de datos\n",
        "Este conjunto de datos contiene observaciones asociadas con cada uno de los 802 pokémon de las siete generaciones de Pokémon. Los atributos de cada pokémon incluyen sus estadísticas básicas, rendimiento contra otros tipos de pokémon, altura, peso, clasificación, puntos de experiencia, habilidades, entre otros. Para obtener este conjunto de datos e información más detallada sobre sus atributos: https://www.kaggle.com/rounakbanik/pokemon\n",
        "\n",
        "# Enfoque de análisis\n",
        "Se desea agrupar los pokémon cuyas estadísticas básicas y otras caracteristicas sean más similares, con el objetivo de identificar cuáles serían los emparejamientos más balanceados en la escena competitiva de Pokémon. En otras palabras, dado un pokémon particular, con cuáles oponentes debería ser emparejado de forma que el combate sea justo para ambos."
      ]
    },
    {
      "cell_type": "markdown",
      "metadata": {
        "id": "h1vH5QuS3nWC"
      },
      "source": [
        "# **Carga del conjunto de datos**"
      ]
    },
    {
      "cell_type": "code",
      "metadata": {
        "id": "QTfXa9ahl-GE"
      },
      "source": [
        "from pandas import read_csv\n",
        "from google.colab import drive"
      ],
      "execution_count": null,
      "outputs": []
    },
    {
      "cell_type": "code",
      "metadata": {
        "id": "5iij4SJamyri",
        "colab": {
          "base_uri": "https://localhost:8080/"
        },
        "outputId": "4d3b6828-4eb5-4dbd-bb45-7910686fa6a9"
      },
      "source": [
        "# Debe subir el conjunto de datos a su cuenta de Google Drive y modificar la variable path. El conjunto de datos se obtiene en el enlace adjunto en la \n",
        "# descripción inicial.\n",
        "\n",
        "drive.mount(\"/content/gdrive\")\n",
        "path = \"/content/gdrive/MyDrive/AVGD/pokemon.csv\"\n",
        "df = read_csv(path)"
      ],
      "execution_count": null,
      "outputs": [
        {
          "output_type": "stream",
          "text": [
            "Drive already mounted at /content/gdrive; to attempt to forcibly remount, call drive.mount(\"/content/gdrive\", force_remount=True).\n"
          ],
          "name": "stdout"
        }
      ]
    },
    {
      "cell_type": "markdown",
      "metadata": {
        "id": "wsXrdet362KA"
      },
      "source": [
        "# **Generalidades del conjunto de datos**\n",
        "---"
      ]
    },
    {
      "cell_type": "code",
      "metadata": {
        "colab": {
          "base_uri": "https://localhost:8080/",
          "height": 343
        },
        "id": "hb3mO8sN2eBl",
        "outputId": "fda4c4e0-129c-4cdc-e9cd-03d8bbd8cd13"
      },
      "source": [
        "df.head()"
      ],
      "execution_count": null,
      "outputs": [
        {
          "output_type": "execute_result",
          "data": {
            "text/html": [
              "<div>\n",
              "<style scoped>\n",
              "    .dataframe tbody tr th:only-of-type {\n",
              "        vertical-align: middle;\n",
              "    }\n",
              "\n",
              "    .dataframe tbody tr th {\n",
              "        vertical-align: top;\n",
              "    }\n",
              "\n",
              "    .dataframe thead th {\n",
              "        text-align: right;\n",
              "    }\n",
              "</style>\n",
              "<table border=\"1\" class=\"dataframe\">\n",
              "  <thead>\n",
              "    <tr style=\"text-align: right;\">\n",
              "      <th></th>\n",
              "      <th>abilities</th>\n",
              "      <th>against_bug</th>\n",
              "      <th>against_dark</th>\n",
              "      <th>against_dragon</th>\n",
              "      <th>against_electric</th>\n",
              "      <th>against_fairy</th>\n",
              "      <th>against_fight</th>\n",
              "      <th>against_fire</th>\n",
              "      <th>against_flying</th>\n",
              "      <th>against_ghost</th>\n",
              "      <th>against_grass</th>\n",
              "      <th>against_ground</th>\n",
              "      <th>against_ice</th>\n",
              "      <th>against_normal</th>\n",
              "      <th>against_poison</th>\n",
              "      <th>against_psychic</th>\n",
              "      <th>against_rock</th>\n",
              "      <th>against_steel</th>\n",
              "      <th>against_water</th>\n",
              "      <th>attack</th>\n",
              "      <th>base_egg_steps</th>\n",
              "      <th>base_happiness</th>\n",
              "      <th>base_total</th>\n",
              "      <th>capture_rate</th>\n",
              "      <th>classfication</th>\n",
              "      <th>defense</th>\n",
              "      <th>experience_growth</th>\n",
              "      <th>height_m</th>\n",
              "      <th>hp</th>\n",
              "      <th>japanese_name</th>\n",
              "      <th>name</th>\n",
              "      <th>percentage_male</th>\n",
              "      <th>pokedex_number</th>\n",
              "      <th>sp_attack</th>\n",
              "      <th>sp_defense</th>\n",
              "      <th>speed</th>\n",
              "      <th>type1</th>\n",
              "      <th>type2</th>\n",
              "      <th>weight_kg</th>\n",
              "      <th>generation</th>\n",
              "      <th>is_legendary</th>\n",
              "    </tr>\n",
              "  </thead>\n",
              "  <tbody>\n",
              "    <tr>\n",
              "      <th>0</th>\n",
              "      <td>['Overgrow', 'Chlorophyll']</td>\n",
              "      <td>1.0</td>\n",
              "      <td>1.0</td>\n",
              "      <td>1.0</td>\n",
              "      <td>0.5</td>\n",
              "      <td>0.5</td>\n",
              "      <td>0.5</td>\n",
              "      <td>2.0</td>\n",
              "      <td>2.0</td>\n",
              "      <td>1.0</td>\n",
              "      <td>0.25</td>\n",
              "      <td>1.0</td>\n",
              "      <td>2.0</td>\n",
              "      <td>1.0</td>\n",
              "      <td>1.0</td>\n",
              "      <td>2.0</td>\n",
              "      <td>1.0</td>\n",
              "      <td>1.0</td>\n",
              "      <td>0.5</td>\n",
              "      <td>49</td>\n",
              "      <td>5120</td>\n",
              "      <td>70</td>\n",
              "      <td>318</td>\n",
              "      <td>45</td>\n",
              "      <td>Seed Pokémon</td>\n",
              "      <td>49</td>\n",
              "      <td>1059860</td>\n",
              "      <td>0.7</td>\n",
              "      <td>45</td>\n",
              "      <td>Fushigidaneフシギダネ</td>\n",
              "      <td>Bulbasaur</td>\n",
              "      <td>88.1</td>\n",
              "      <td>1</td>\n",
              "      <td>65</td>\n",
              "      <td>65</td>\n",
              "      <td>45</td>\n",
              "      <td>grass</td>\n",
              "      <td>poison</td>\n",
              "      <td>6.9</td>\n",
              "      <td>1</td>\n",
              "      <td>0</td>\n",
              "    </tr>\n",
              "    <tr>\n",
              "      <th>1</th>\n",
              "      <td>['Overgrow', 'Chlorophyll']</td>\n",
              "      <td>1.0</td>\n",
              "      <td>1.0</td>\n",
              "      <td>1.0</td>\n",
              "      <td>0.5</td>\n",
              "      <td>0.5</td>\n",
              "      <td>0.5</td>\n",
              "      <td>2.0</td>\n",
              "      <td>2.0</td>\n",
              "      <td>1.0</td>\n",
              "      <td>0.25</td>\n",
              "      <td>1.0</td>\n",
              "      <td>2.0</td>\n",
              "      <td>1.0</td>\n",
              "      <td>1.0</td>\n",
              "      <td>2.0</td>\n",
              "      <td>1.0</td>\n",
              "      <td>1.0</td>\n",
              "      <td>0.5</td>\n",
              "      <td>62</td>\n",
              "      <td>5120</td>\n",
              "      <td>70</td>\n",
              "      <td>405</td>\n",
              "      <td>45</td>\n",
              "      <td>Seed Pokémon</td>\n",
              "      <td>63</td>\n",
              "      <td>1059860</td>\n",
              "      <td>1.0</td>\n",
              "      <td>60</td>\n",
              "      <td>Fushigisouフシギソウ</td>\n",
              "      <td>Ivysaur</td>\n",
              "      <td>88.1</td>\n",
              "      <td>2</td>\n",
              "      <td>80</td>\n",
              "      <td>80</td>\n",
              "      <td>60</td>\n",
              "      <td>grass</td>\n",
              "      <td>poison</td>\n",
              "      <td>13.0</td>\n",
              "      <td>1</td>\n",
              "      <td>0</td>\n",
              "    </tr>\n",
              "    <tr>\n",
              "      <th>2</th>\n",
              "      <td>['Overgrow', 'Chlorophyll']</td>\n",
              "      <td>1.0</td>\n",
              "      <td>1.0</td>\n",
              "      <td>1.0</td>\n",
              "      <td>0.5</td>\n",
              "      <td>0.5</td>\n",
              "      <td>0.5</td>\n",
              "      <td>2.0</td>\n",
              "      <td>2.0</td>\n",
              "      <td>1.0</td>\n",
              "      <td>0.25</td>\n",
              "      <td>1.0</td>\n",
              "      <td>2.0</td>\n",
              "      <td>1.0</td>\n",
              "      <td>1.0</td>\n",
              "      <td>2.0</td>\n",
              "      <td>1.0</td>\n",
              "      <td>1.0</td>\n",
              "      <td>0.5</td>\n",
              "      <td>100</td>\n",
              "      <td>5120</td>\n",
              "      <td>70</td>\n",
              "      <td>625</td>\n",
              "      <td>45</td>\n",
              "      <td>Seed Pokémon</td>\n",
              "      <td>123</td>\n",
              "      <td>1059860</td>\n",
              "      <td>2.0</td>\n",
              "      <td>80</td>\n",
              "      <td>Fushigibanaフシギバナ</td>\n",
              "      <td>Venusaur</td>\n",
              "      <td>88.1</td>\n",
              "      <td>3</td>\n",
              "      <td>122</td>\n",
              "      <td>120</td>\n",
              "      <td>80</td>\n",
              "      <td>grass</td>\n",
              "      <td>poison</td>\n",
              "      <td>100.0</td>\n",
              "      <td>1</td>\n",
              "      <td>0</td>\n",
              "    </tr>\n",
              "    <tr>\n",
              "      <th>3</th>\n",
              "      <td>['Blaze', 'Solar Power']</td>\n",
              "      <td>0.5</td>\n",
              "      <td>1.0</td>\n",
              "      <td>1.0</td>\n",
              "      <td>1.0</td>\n",
              "      <td>0.5</td>\n",
              "      <td>1.0</td>\n",
              "      <td>0.5</td>\n",
              "      <td>1.0</td>\n",
              "      <td>1.0</td>\n",
              "      <td>0.50</td>\n",
              "      <td>2.0</td>\n",
              "      <td>0.5</td>\n",
              "      <td>1.0</td>\n",
              "      <td>1.0</td>\n",
              "      <td>1.0</td>\n",
              "      <td>2.0</td>\n",
              "      <td>0.5</td>\n",
              "      <td>2.0</td>\n",
              "      <td>52</td>\n",
              "      <td>5120</td>\n",
              "      <td>70</td>\n",
              "      <td>309</td>\n",
              "      <td>45</td>\n",
              "      <td>Lizard Pokémon</td>\n",
              "      <td>43</td>\n",
              "      <td>1059860</td>\n",
              "      <td>0.6</td>\n",
              "      <td>39</td>\n",
              "      <td>Hitokageヒトカゲ</td>\n",
              "      <td>Charmander</td>\n",
              "      <td>88.1</td>\n",
              "      <td>4</td>\n",
              "      <td>60</td>\n",
              "      <td>50</td>\n",
              "      <td>65</td>\n",
              "      <td>fire</td>\n",
              "      <td>NaN</td>\n",
              "      <td>8.5</td>\n",
              "      <td>1</td>\n",
              "      <td>0</td>\n",
              "    </tr>\n",
              "    <tr>\n",
              "      <th>4</th>\n",
              "      <td>['Blaze', 'Solar Power']</td>\n",
              "      <td>0.5</td>\n",
              "      <td>1.0</td>\n",
              "      <td>1.0</td>\n",
              "      <td>1.0</td>\n",
              "      <td>0.5</td>\n",
              "      <td>1.0</td>\n",
              "      <td>0.5</td>\n",
              "      <td>1.0</td>\n",
              "      <td>1.0</td>\n",
              "      <td>0.50</td>\n",
              "      <td>2.0</td>\n",
              "      <td>0.5</td>\n",
              "      <td>1.0</td>\n",
              "      <td>1.0</td>\n",
              "      <td>1.0</td>\n",
              "      <td>2.0</td>\n",
              "      <td>0.5</td>\n",
              "      <td>2.0</td>\n",
              "      <td>64</td>\n",
              "      <td>5120</td>\n",
              "      <td>70</td>\n",
              "      <td>405</td>\n",
              "      <td>45</td>\n",
              "      <td>Flame Pokémon</td>\n",
              "      <td>58</td>\n",
              "      <td>1059860</td>\n",
              "      <td>1.1</td>\n",
              "      <td>58</td>\n",
              "      <td>Lizardoリザード</td>\n",
              "      <td>Charmeleon</td>\n",
              "      <td>88.1</td>\n",
              "      <td>5</td>\n",
              "      <td>80</td>\n",
              "      <td>65</td>\n",
              "      <td>80</td>\n",
              "      <td>fire</td>\n",
              "      <td>NaN</td>\n",
              "      <td>19.0</td>\n",
              "      <td>1</td>\n",
              "      <td>0</td>\n",
              "    </tr>\n",
              "  </tbody>\n",
              "</table>\n",
              "</div>"
            ],
            "text/plain": [
              "                     abilities  against_bug  ...  generation  is_legendary\n",
              "0  ['Overgrow', 'Chlorophyll']          1.0  ...           1             0\n",
              "1  ['Overgrow', 'Chlorophyll']          1.0  ...           1             0\n",
              "2  ['Overgrow', 'Chlorophyll']          1.0  ...           1             0\n",
              "3     ['Blaze', 'Solar Power']          0.5  ...           1             0\n",
              "4     ['Blaze', 'Solar Power']          0.5  ...           1             0\n",
              "\n",
              "[5 rows x 41 columns]"
            ]
          },
          "metadata": {
            "tags": []
          },
          "execution_count": 3
        }
      ]
    },
    {
      "cell_type": "code",
      "metadata": {
        "colab": {
          "base_uri": "https://localhost:8080/"
        },
        "id": "kp42emFp7EZG",
        "outputId": "e65a1c3a-577f-46f7-d5fe-400119f10d1f"
      },
      "source": [
        "df.info()"
      ],
      "execution_count": null,
      "outputs": [
        {
          "output_type": "stream",
          "text": [
            "<class 'pandas.core.frame.DataFrame'>\n",
            "RangeIndex: 801 entries, 0 to 800\n",
            "Data columns (total 41 columns):\n",
            " #   Column             Non-Null Count  Dtype  \n",
            "---  ------             --------------  -----  \n",
            " 0   abilities          801 non-null    object \n",
            " 1   against_bug        801 non-null    float64\n",
            " 2   against_dark       801 non-null    float64\n",
            " 3   against_dragon     801 non-null    float64\n",
            " 4   against_electric   801 non-null    float64\n",
            " 5   against_fairy      801 non-null    float64\n",
            " 6   against_fight      801 non-null    float64\n",
            " 7   against_fire       801 non-null    float64\n",
            " 8   against_flying     801 non-null    float64\n",
            " 9   against_ghost      801 non-null    float64\n",
            " 10  against_grass      801 non-null    float64\n",
            " 11  against_ground     801 non-null    float64\n",
            " 12  against_ice        801 non-null    float64\n",
            " 13  against_normal     801 non-null    float64\n",
            " 14  against_poison     801 non-null    float64\n",
            " 15  against_psychic    801 non-null    float64\n",
            " 16  against_rock       801 non-null    float64\n",
            " 17  against_steel      801 non-null    float64\n",
            " 18  against_water      801 non-null    float64\n",
            " 19  attack             801 non-null    int64  \n",
            " 20  base_egg_steps     801 non-null    int64  \n",
            " 21  base_happiness     801 non-null    int64  \n",
            " 22  base_total         801 non-null    int64  \n",
            " 23  capture_rate       801 non-null    object \n",
            " 24  classfication      801 non-null    object \n",
            " 25  defense            801 non-null    int64  \n",
            " 26  experience_growth  801 non-null    int64  \n",
            " 27  height_m           781 non-null    float64\n",
            " 28  hp                 801 non-null    int64  \n",
            " 29  japanese_name      801 non-null    object \n",
            " 30  name               801 non-null    object \n",
            " 31  percentage_male    703 non-null    float64\n",
            " 32  pokedex_number     801 non-null    int64  \n",
            " 33  sp_attack          801 non-null    int64  \n",
            " 34  sp_defense         801 non-null    int64  \n",
            " 35  speed              801 non-null    int64  \n",
            " 36  type1              801 non-null    object \n",
            " 37  type2              417 non-null    object \n",
            " 38  weight_kg          781 non-null    float64\n",
            " 39  generation         801 non-null    int64  \n",
            " 40  is_legendary       801 non-null    int64  \n",
            "dtypes: float64(21), int64(13), object(7)\n",
            "memory usage: 256.7+ KB\n"
          ],
          "name": "stdout"
        }
      ]
    },
    {
      "cell_type": "code",
      "metadata": {
        "colab": {
          "base_uri": "https://localhost:8080/",
          "height": 317
        },
        "id": "ALOag_727F_g",
        "outputId": "0021eb52-c8a8-4bba-b037-213216c6f475"
      },
      "source": [
        "df.describe()"
      ],
      "execution_count": null,
      "outputs": [
        {
          "output_type": "execute_result",
          "data": {
            "text/html": [
              "<div>\n",
              "<style scoped>\n",
              "    .dataframe tbody tr th:only-of-type {\n",
              "        vertical-align: middle;\n",
              "    }\n",
              "\n",
              "    .dataframe tbody tr th {\n",
              "        vertical-align: top;\n",
              "    }\n",
              "\n",
              "    .dataframe thead th {\n",
              "        text-align: right;\n",
              "    }\n",
              "</style>\n",
              "<table border=\"1\" class=\"dataframe\">\n",
              "  <thead>\n",
              "    <tr style=\"text-align: right;\">\n",
              "      <th></th>\n",
              "      <th>against_bug</th>\n",
              "      <th>against_dark</th>\n",
              "      <th>against_dragon</th>\n",
              "      <th>against_electric</th>\n",
              "      <th>against_fairy</th>\n",
              "      <th>against_fight</th>\n",
              "      <th>against_fire</th>\n",
              "      <th>against_flying</th>\n",
              "      <th>against_ghost</th>\n",
              "      <th>against_grass</th>\n",
              "      <th>against_ground</th>\n",
              "      <th>against_ice</th>\n",
              "      <th>against_normal</th>\n",
              "      <th>against_poison</th>\n",
              "      <th>against_psychic</th>\n",
              "      <th>against_rock</th>\n",
              "      <th>against_steel</th>\n",
              "      <th>against_water</th>\n",
              "      <th>attack</th>\n",
              "      <th>base_egg_steps</th>\n",
              "      <th>base_happiness</th>\n",
              "      <th>base_total</th>\n",
              "      <th>defense</th>\n",
              "      <th>experience_growth</th>\n",
              "      <th>height_m</th>\n",
              "      <th>hp</th>\n",
              "      <th>percentage_male</th>\n",
              "      <th>pokedex_number</th>\n",
              "      <th>sp_attack</th>\n",
              "      <th>sp_defense</th>\n",
              "      <th>speed</th>\n",
              "      <th>weight_kg</th>\n",
              "      <th>generation</th>\n",
              "      <th>is_legendary</th>\n",
              "    </tr>\n",
              "  </thead>\n",
              "  <tbody>\n",
              "    <tr>\n",
              "      <th>count</th>\n",
              "      <td>801.000000</td>\n",
              "      <td>801.000000</td>\n",
              "      <td>801.000000</td>\n",
              "      <td>801.000000</td>\n",
              "      <td>801.000000</td>\n",
              "      <td>801.000000</td>\n",
              "      <td>801.000000</td>\n",
              "      <td>801.000000</td>\n",
              "      <td>801.000000</td>\n",
              "      <td>801.000000</td>\n",
              "      <td>801.000000</td>\n",
              "      <td>801.000000</td>\n",
              "      <td>801.000000</td>\n",
              "      <td>801.000000</td>\n",
              "      <td>801.000000</td>\n",
              "      <td>801.000000</td>\n",
              "      <td>801.000000</td>\n",
              "      <td>801.000000</td>\n",
              "      <td>801.000000</td>\n",
              "      <td>801.000000</td>\n",
              "      <td>801.000000</td>\n",
              "      <td>801.000000</td>\n",
              "      <td>801.000000</td>\n",
              "      <td>8.010000e+02</td>\n",
              "      <td>781.000000</td>\n",
              "      <td>801.000000</td>\n",
              "      <td>703.000000</td>\n",
              "      <td>801.000000</td>\n",
              "      <td>801.000000</td>\n",
              "      <td>801.000000</td>\n",
              "      <td>801.000000</td>\n",
              "      <td>781.000000</td>\n",
              "      <td>801.000000</td>\n",
              "      <td>801.000000</td>\n",
              "    </tr>\n",
              "    <tr>\n",
              "      <th>mean</th>\n",
              "      <td>0.996255</td>\n",
              "      <td>1.057116</td>\n",
              "      <td>0.968789</td>\n",
              "      <td>1.073970</td>\n",
              "      <td>1.068976</td>\n",
              "      <td>1.065543</td>\n",
              "      <td>1.135456</td>\n",
              "      <td>1.192884</td>\n",
              "      <td>0.985019</td>\n",
              "      <td>1.034020</td>\n",
              "      <td>1.098002</td>\n",
              "      <td>1.208177</td>\n",
              "      <td>0.887016</td>\n",
              "      <td>0.975343</td>\n",
              "      <td>1.005306</td>\n",
              "      <td>1.250312</td>\n",
              "      <td>0.983458</td>\n",
              "      <td>1.058365</td>\n",
              "      <td>77.857678</td>\n",
              "      <td>7191.011236</td>\n",
              "      <td>65.362047</td>\n",
              "      <td>428.377029</td>\n",
              "      <td>73.008739</td>\n",
              "      <td>1.054996e+06</td>\n",
              "      <td>1.163892</td>\n",
              "      <td>68.958801</td>\n",
              "      <td>55.155761</td>\n",
              "      <td>401.000000</td>\n",
              "      <td>71.305868</td>\n",
              "      <td>70.911361</td>\n",
              "      <td>66.334582</td>\n",
              "      <td>61.378105</td>\n",
              "      <td>3.690387</td>\n",
              "      <td>0.087391</td>\n",
              "    </tr>\n",
              "    <tr>\n",
              "      <th>std</th>\n",
              "      <td>0.597248</td>\n",
              "      <td>0.438142</td>\n",
              "      <td>0.353058</td>\n",
              "      <td>0.654962</td>\n",
              "      <td>0.522167</td>\n",
              "      <td>0.717251</td>\n",
              "      <td>0.691853</td>\n",
              "      <td>0.604488</td>\n",
              "      <td>0.558256</td>\n",
              "      <td>0.788896</td>\n",
              "      <td>0.738818</td>\n",
              "      <td>0.735356</td>\n",
              "      <td>0.266106</td>\n",
              "      <td>0.549375</td>\n",
              "      <td>0.495183</td>\n",
              "      <td>0.697148</td>\n",
              "      <td>0.500117</td>\n",
              "      <td>0.606562</td>\n",
              "      <td>32.158820</td>\n",
              "      <td>6558.220422</td>\n",
              "      <td>19.598948</td>\n",
              "      <td>119.203577</td>\n",
              "      <td>30.769159</td>\n",
              "      <td>1.602558e+05</td>\n",
              "      <td>1.080326</td>\n",
              "      <td>26.576015</td>\n",
              "      <td>20.261623</td>\n",
              "      <td>231.373075</td>\n",
              "      <td>32.353826</td>\n",
              "      <td>27.942501</td>\n",
              "      <td>28.907662</td>\n",
              "      <td>109.354766</td>\n",
              "      <td>1.930420</td>\n",
              "      <td>0.282583</td>\n",
              "    </tr>\n",
              "    <tr>\n",
              "      <th>min</th>\n",
              "      <td>0.250000</td>\n",
              "      <td>0.250000</td>\n",
              "      <td>0.000000</td>\n",
              "      <td>0.000000</td>\n",
              "      <td>0.250000</td>\n",
              "      <td>0.000000</td>\n",
              "      <td>0.250000</td>\n",
              "      <td>0.250000</td>\n",
              "      <td>0.000000</td>\n",
              "      <td>0.250000</td>\n",
              "      <td>0.000000</td>\n",
              "      <td>0.250000</td>\n",
              "      <td>0.000000</td>\n",
              "      <td>0.000000</td>\n",
              "      <td>0.000000</td>\n",
              "      <td>0.250000</td>\n",
              "      <td>0.250000</td>\n",
              "      <td>0.250000</td>\n",
              "      <td>5.000000</td>\n",
              "      <td>1280.000000</td>\n",
              "      <td>0.000000</td>\n",
              "      <td>180.000000</td>\n",
              "      <td>5.000000</td>\n",
              "      <td>6.000000e+05</td>\n",
              "      <td>0.100000</td>\n",
              "      <td>1.000000</td>\n",
              "      <td>0.000000</td>\n",
              "      <td>1.000000</td>\n",
              "      <td>10.000000</td>\n",
              "      <td>20.000000</td>\n",
              "      <td>5.000000</td>\n",
              "      <td>0.100000</td>\n",
              "      <td>1.000000</td>\n",
              "      <td>0.000000</td>\n",
              "    </tr>\n",
              "    <tr>\n",
              "      <th>25%</th>\n",
              "      <td>0.500000</td>\n",
              "      <td>1.000000</td>\n",
              "      <td>1.000000</td>\n",
              "      <td>0.500000</td>\n",
              "      <td>1.000000</td>\n",
              "      <td>0.500000</td>\n",
              "      <td>0.500000</td>\n",
              "      <td>1.000000</td>\n",
              "      <td>1.000000</td>\n",
              "      <td>0.500000</td>\n",
              "      <td>1.000000</td>\n",
              "      <td>0.500000</td>\n",
              "      <td>1.000000</td>\n",
              "      <td>0.500000</td>\n",
              "      <td>1.000000</td>\n",
              "      <td>1.000000</td>\n",
              "      <td>0.500000</td>\n",
              "      <td>0.500000</td>\n",
              "      <td>55.000000</td>\n",
              "      <td>5120.000000</td>\n",
              "      <td>70.000000</td>\n",
              "      <td>320.000000</td>\n",
              "      <td>50.000000</td>\n",
              "      <td>1.000000e+06</td>\n",
              "      <td>0.600000</td>\n",
              "      <td>50.000000</td>\n",
              "      <td>50.000000</td>\n",
              "      <td>201.000000</td>\n",
              "      <td>45.000000</td>\n",
              "      <td>50.000000</td>\n",
              "      <td>45.000000</td>\n",
              "      <td>9.000000</td>\n",
              "      <td>2.000000</td>\n",
              "      <td>0.000000</td>\n",
              "    </tr>\n",
              "    <tr>\n",
              "      <th>50%</th>\n",
              "      <td>1.000000</td>\n",
              "      <td>1.000000</td>\n",
              "      <td>1.000000</td>\n",
              "      <td>1.000000</td>\n",
              "      <td>1.000000</td>\n",
              "      <td>1.000000</td>\n",
              "      <td>1.000000</td>\n",
              "      <td>1.000000</td>\n",
              "      <td>1.000000</td>\n",
              "      <td>1.000000</td>\n",
              "      <td>1.000000</td>\n",
              "      <td>1.000000</td>\n",
              "      <td>1.000000</td>\n",
              "      <td>1.000000</td>\n",
              "      <td>1.000000</td>\n",
              "      <td>1.000000</td>\n",
              "      <td>1.000000</td>\n",
              "      <td>1.000000</td>\n",
              "      <td>75.000000</td>\n",
              "      <td>5120.000000</td>\n",
              "      <td>70.000000</td>\n",
              "      <td>435.000000</td>\n",
              "      <td>70.000000</td>\n",
              "      <td>1.000000e+06</td>\n",
              "      <td>1.000000</td>\n",
              "      <td>65.000000</td>\n",
              "      <td>50.000000</td>\n",
              "      <td>401.000000</td>\n",
              "      <td>65.000000</td>\n",
              "      <td>66.000000</td>\n",
              "      <td>65.000000</td>\n",
              "      <td>27.300000</td>\n",
              "      <td>4.000000</td>\n",
              "      <td>0.000000</td>\n",
              "    </tr>\n",
              "    <tr>\n",
              "      <th>75%</th>\n",
              "      <td>1.000000</td>\n",
              "      <td>1.000000</td>\n",
              "      <td>1.000000</td>\n",
              "      <td>1.000000</td>\n",
              "      <td>1.000000</td>\n",
              "      <td>1.000000</td>\n",
              "      <td>2.000000</td>\n",
              "      <td>1.000000</td>\n",
              "      <td>1.000000</td>\n",
              "      <td>1.000000</td>\n",
              "      <td>1.000000</td>\n",
              "      <td>2.000000</td>\n",
              "      <td>1.000000</td>\n",
              "      <td>1.000000</td>\n",
              "      <td>1.000000</td>\n",
              "      <td>2.000000</td>\n",
              "      <td>1.000000</td>\n",
              "      <td>1.000000</td>\n",
              "      <td>100.000000</td>\n",
              "      <td>6400.000000</td>\n",
              "      <td>70.000000</td>\n",
              "      <td>505.000000</td>\n",
              "      <td>90.000000</td>\n",
              "      <td>1.059860e+06</td>\n",
              "      <td>1.500000</td>\n",
              "      <td>80.000000</td>\n",
              "      <td>50.000000</td>\n",
              "      <td>601.000000</td>\n",
              "      <td>91.000000</td>\n",
              "      <td>90.000000</td>\n",
              "      <td>85.000000</td>\n",
              "      <td>64.800000</td>\n",
              "      <td>5.000000</td>\n",
              "      <td>0.000000</td>\n",
              "    </tr>\n",
              "    <tr>\n",
              "      <th>max</th>\n",
              "      <td>4.000000</td>\n",
              "      <td>4.000000</td>\n",
              "      <td>2.000000</td>\n",
              "      <td>4.000000</td>\n",
              "      <td>4.000000</td>\n",
              "      <td>4.000000</td>\n",
              "      <td>4.000000</td>\n",
              "      <td>4.000000</td>\n",
              "      <td>4.000000</td>\n",
              "      <td>4.000000</td>\n",
              "      <td>4.000000</td>\n",
              "      <td>4.000000</td>\n",
              "      <td>1.000000</td>\n",
              "      <td>4.000000</td>\n",
              "      <td>4.000000</td>\n",
              "      <td>4.000000</td>\n",
              "      <td>4.000000</td>\n",
              "      <td>4.000000</td>\n",
              "      <td>185.000000</td>\n",
              "      <td>30720.000000</td>\n",
              "      <td>140.000000</td>\n",
              "      <td>780.000000</td>\n",
              "      <td>230.000000</td>\n",
              "      <td>1.640000e+06</td>\n",
              "      <td>14.500000</td>\n",
              "      <td>255.000000</td>\n",
              "      <td>100.000000</td>\n",
              "      <td>801.000000</td>\n",
              "      <td>194.000000</td>\n",
              "      <td>230.000000</td>\n",
              "      <td>180.000000</td>\n",
              "      <td>999.900000</td>\n",
              "      <td>7.000000</td>\n",
              "      <td>1.000000</td>\n",
              "    </tr>\n",
              "  </tbody>\n",
              "</table>\n",
              "</div>"
            ],
            "text/plain": [
              "       against_bug  against_dark  ...  generation  is_legendary\n",
              "count   801.000000    801.000000  ...  801.000000    801.000000\n",
              "mean      0.996255      1.057116  ...    3.690387      0.087391\n",
              "std       0.597248      0.438142  ...    1.930420      0.282583\n",
              "min       0.250000      0.250000  ...    1.000000      0.000000\n",
              "25%       0.500000      1.000000  ...    2.000000      0.000000\n",
              "50%       1.000000      1.000000  ...    4.000000      0.000000\n",
              "75%       1.000000      1.000000  ...    5.000000      0.000000\n",
              "max       4.000000      4.000000  ...    7.000000      1.000000\n",
              "\n",
              "[8 rows x 34 columns]"
            ]
          },
          "metadata": {
            "tags": []
          },
          "execution_count": 5
        }
      ]
    },
    {
      "cell_type": "code",
      "metadata": {
        "colab": {
          "base_uri": "https://localhost:8080/"
        },
        "id": "QX8xGo_H7IRd",
        "outputId": "5470b829-215a-49f3-8fbb-ff9e8f625fbf"
      },
      "source": [
        "df.nunique()"
      ],
      "execution_count": null,
      "outputs": [
        {
          "output_type": "execute_result",
          "data": {
            "text/plain": [
              "abilities            482\n",
              "against_bug            5\n",
              "against_dark           5\n",
              "against_dragon         4\n",
              "against_electric       6\n",
              "against_fairy          5\n",
              "against_fight          6\n",
              "against_fire           5\n",
              "against_flying         5\n",
              "against_ghost          5\n",
              "against_grass          5\n",
              "against_ground         6\n",
              "against_ice            5\n",
              "against_normal         4\n",
              "against_poison         6\n",
              "against_psychic        6\n",
              "against_rock           5\n",
              "against_steel          5\n",
              "against_water          5\n",
              "attack               114\n",
              "base_egg_steps        10\n",
              "base_happiness         6\n",
              "base_total           203\n",
              "capture_rate          34\n",
              "classfication        588\n",
              "defense              109\n",
              "experience_growth      6\n",
              "height_m              51\n",
              "hp                    99\n",
              "japanese_name        801\n",
              "name                 801\n",
              "percentage_male        7\n",
              "pokedex_number       801\n",
              "sp_attack            111\n",
              "sp_defense            97\n",
              "speed                113\n",
              "type1                 18\n",
              "type2                 18\n",
              "weight_kg            421\n",
              "generation             7\n",
              "is_legendary           2\n",
              "dtype: int64"
            ]
          },
          "metadata": {
            "tags": []
          },
          "execution_count": 6
        }
      ]
    },
    {
      "cell_type": "markdown",
      "metadata": {
        "id": "1-At0D3DG-bG"
      },
      "source": [
        "# **Limpieza y preprocesamiento del conjunto de datos**"
      ]
    },
    {
      "cell_type": "code",
      "metadata": {
        "id": "_EiIcVA4HFp7"
      },
      "source": [
        "from sklearn.preprocessing import LabelEncoder\n",
        "from pandas import to_numeric, DataFrame\n",
        "from numpy import median"
      ],
      "execution_count": null,
      "outputs": []
    },
    {
      "cell_type": "markdown",
      "metadata": {
        "id": "axMmWC6lwK5w"
      },
      "source": [
        "## **Tratamiento de valores faltantes y anómalos**\n",
        "- Hay múltiples pokémon que no tienen segundo tipo, por lo que este campo se rellena con una hilera vacía en los casos respectivos.\n",
        "- El peso y altura de muchos pokémon no está indicado, por lo que estos campos se rellenan con el valor de la media, para contrarrestar la influencia de los valores extremos.\n",
        "- *Minior*, cuyo *pokedex_number* es 774, tiene la particularidad de tener dos *capture_rate* dependiendo de la forma que tiene:  *mitior* o *core*. En general, este pokémon es muy fuerte, por lo que se decide conservar el *capture_rate* más alto asociado con su forma *core* (255). "
      ]
    },
    {
      "cell_type": "code",
      "metadata": {
        "id": "n1eZdDhadLBl"
      },
      "source": [
        "df[\"type2\"].fillna('', inplace=True)"
      ],
      "execution_count": null,
      "outputs": []
    },
    {
      "cell_type": "code",
      "metadata": {
        "id": "IRspQH2StPcO"
      },
      "source": [
        "weight_kg_median = median(df[df[\"weight_kg\"].notnull()][\"weight_kg\"])\n",
        "height_m_median = median(df[df[\"height_m\"].notnull()][\"height_m\"])\n",
        "\n",
        "df[\"weight_kg\"].fillna(weight_kg_median, inplace=True)\n",
        "df[\"height_m\"].fillna(height_m_median, inplace=True)"
      ],
      "execution_count": null,
      "outputs": []
    },
    {
      "cell_type": "code",
      "metadata": {
        "id": "Za_E50w-juue"
      },
      "source": [
        "df.loc[ df[\"pokedex_number\"] == 774, [\"capture_rate\"] ] = 255"
      ],
      "execution_count": null,
      "outputs": []
    },
    {
      "cell_type": "markdown",
      "metadata": {
        "id": "GdNwsfRL6Fat"
      },
      "source": [
        "## **Eliminación de atributos**\n",
        "Se remueven los atributos que, por conocimiento del dominio, se sabe que son irrelevantes para hacer un emparejamiento balanceado de los pokémon.  "
      ]
    },
    {
      "cell_type": "code",
      "metadata": {
        "id": "pTpIMGle6Fw6"
      },
      "source": [
        "names = df[[\"name\"]]\n",
        "df = df.drop(labels= [\"name\", \"japanese_name\", \"pokedex_number\", \"percentage_male\", \"classfication\", \"abilities\"], axis=1)"
      ],
      "execution_count": null,
      "outputs": []
    },
    {
      "cell_type": "markdown",
      "metadata": {
        "id": "03y_eTgdwSme"
      },
      "source": [
        "## **Conversiones de tipo**\n",
        " - Los atributos categóricos *type_1* y *type_2* se transforman en atributos numéricos utilizando *Label Encoder*, debido a que los algoritmos de *clustering* solo aceptan datos numéricos.\n",
        " - Los atributos *capture_rate*, *weight_kg* y *height_m* son atributos numéricos, sin embargo, están almacenados como hileras, por lo que se hacen las conversiones de tipo respectivas.\n"
      ]
    },
    {
      "cell_type": "code",
      "metadata": {
        "id": "huDsV3PJT2d8"
      },
      "source": [
        "label_encoder = LabelEncoder()\n",
        "\n",
        "type1_encoded = label_encoder.fit_transform( df[\"type1\"] )\n",
        "df[\"type1\"] = type1_encoded\n",
        "\n",
        "type2_encoded = label_encoder.fit_transform( df[\"type2\"] )\n",
        "df[\"type2\"] = type2_encoded"
      ],
      "execution_count": null,
      "outputs": []
    },
    {
      "cell_type": "code",
      "metadata": {
        "id": "37rEAtkxlfp-"
      },
      "source": [
        "df[\"capture_rate\"] = to_numeric( df[\"capture_rate\"] )\n",
        "df[\"weight_kg\"] = to_numeric( df[\"weight_kg\"] )\n",
        "df[\"height_m\"] = to_numeric( df[\"height_m\"] )"
      ],
      "execution_count": null,
      "outputs": []
    },
    {
      "cell_type": "markdown",
      "metadata": {
        "id": "K3r_R3ce0SmS"
      },
      "source": [
        "# **K-Means**"
      ]
    },
    {
      "cell_type": "markdown",
      "metadata": {
        "id": "jt5EcU9KIMAG"
      },
      "source": [
        "## **Tunning de hiperparámetros**\n",
        "Utilizando la métrica *silhouette*, se determina que la mejor combinación de los hiperparámetros es utilizar 10 clusters y cualquiera de los algoritmos, puesto que en los tres da el mismo resultado.\n"
      ]
    },
    {
      "cell_type": "code",
      "metadata": {
        "id": "X-HDCphA0mMh"
      },
      "source": [
        "from sklearn.cluster import KMeans\n",
        "from sklearn.metrics import silhouette_score"
      ],
      "execution_count": null,
      "outputs": []
    },
    {
      "cell_type": "code",
      "metadata": {
        "colab": {
          "base_uri": "https://localhost:8080/"
        },
        "id": "mGdF066q100l",
        "outputId": "e60d70f7-8e1a-4369-f61b-76211a815eda"
      },
      "source": [
        "num_clusters_list = [2, 5, 10, 15]\n",
        "algorithm_list = [\"auto\", \"full\", \"elkan\"]\n",
        "\n",
        "for num_clusters in num_clusters_list:\n",
        "  for algorithm in algorithm_list:\n",
        "    model = KMeans(n_clusters= num_clusters,  algorithm=algorithm, random_state=10)\n",
        "    labels = model.fit_predict(df)\n",
        "    avg_silhouette = silhouette_score(df, labels)\n",
        "    print(f\"> {num_clusters} clusters - {algorithm} algorithm  ({avg_silhouette})\")\n",
        "  print()"
      ],
      "execution_count": 53,
      "outputs": [
        {
          "output_type": "stream",
          "text": [
            "> 2 clusters - auto algorithm  (0.7491117881574775)\n",
            "> 2 clusters - full algorithm  (0.7491117881574775)\n",
            "> 2 clusters - elkan algorithm  (0.7491117881574775)\n",
            "\n",
            "> 5 clusters - auto algorithm  (0.8889412955149546)\n",
            "> 5 clusters - full algorithm  (0.8889412955149546)\n",
            "> 5 clusters - elkan algorithm  (0.8889412955149546)\n",
            "\n",
            "> 10 clusters - auto algorithm  (0.9569998126315652)\n",
            "> 10 clusters - full algorithm  (0.9569998126315652)\n",
            "> 10 clusters - elkan algorithm  (0.9569998126315652)\n",
            "\n",
            "> 15 clusters - auto algorithm  (0.8060694801334247)\n",
            "> 15 clusters - full algorithm  (0.8060694801334247)\n",
            "> 15 clusters - elkan algorithm  (0.8060694801334247)\n",
            "\n"
          ],
          "name": "stdout"
        }
      ]
    },
    {
      "cell_type": "markdown",
      "metadata": {
        "id": "UbAGdO4K_lkg"
      },
      "source": [
        "## **Implementación de modelo**\n",
        "Se implementa el modelo utilizando 10 clusters y el algoritmo full."
      ]
    },
    {
      "cell_type": "code",
      "metadata": {
        "id": "9Wfy8i7ZPcBR"
      },
      "source": [
        "from sklearn.decomposition import PCA\n",
        "from sklearn.preprocessing import StandardScaler\n",
        "import matplotlib.pyplot as plt"
      ],
      "execution_count": null,
      "outputs": []
    },
    {
      "cell_type": "code",
      "metadata": {
        "id": "yFOddF3Ha96i",
        "colab": {
          "base_uri": "https://localhost:8080/"
        },
        "outputId": "9f38e85d-4522-4e22-9532-b8df03a9b7fa"
      },
      "source": [
        "model = KMeans(n_clusters= 10,  algorithm=\"full\", random_state=10)\n",
        "clusters = model.fit_predict(df)\n",
        "avg_silhouette = silhouette_score(df, clusters)\n",
        "print(f\"> 10 clusters - full algorithm  ({avg_silhouette})\")"
      ],
      "execution_count": 54,
      "outputs": [
        {
          "output_type": "stream",
          "text": [
            "> 10 clusters - full algorithm  (0.9569998126315652)\n"
          ],
          "name": "stdout"
        }
      ]
    },
    {
      "cell_type": "markdown",
      "metadata": {
        "id": "O8wlDohD8-Wj"
      },
      "source": [
        "Con el fin de poder visualizar la distribución de los clusters en un gráfico de dispersión, se implementa una reducción de dimensionalidad mediante PCA. De forma previa, los datos son estandarizados, debido a que PCA es sensible a la escala de los datos."
      ]
    },
    {
      "cell_type": "code",
      "metadata": {
        "id": "16wBMC0JOaQ3"
      },
      "source": [
        "# Se estandarizan los datos y los centroides.\n",
        "std_scl = StandardScaler()\n",
        "df_scaled = std_scl.fit_transform(df)\n",
        "cluster_centers_scaled =  std_scl.fit_transform(model.cluster_centers_)\n",
        "\n",
        "# Se reduce la dimensionalidad de los datos y los centroides, mediante PCA.\n",
        "pca = PCA(n_components = 2)\n",
        "df_reduced = DataFrame(pca.fit_transform(df_scaled), columns=[\"PC1\", \"PC2\"])\n",
        "cluster_centers_reduced = DataFrame(pca.fit_transform(cluster_centers_scaled))\n",
        "\n",
        "# Para cada punto (PC1, PC2), se indica el numero de cluster al que pertenece y el nombre del pokemon al que esta asociado.\n",
        "df_reduced[\"cluster\"] = clusters\n",
        "df_reduced[\"name\"] = names"
      ],
      "execution_count": null,
      "outputs": []
    },
    {
      "cell_type": "markdown",
      "metadata": {
        "id": "7UWhp-AI9uSH"
      },
      "source": [
        "En el siguiente gráfico se muestran los clusters resultantes, cada uno asociado con un color distinto y cuyos centroides están marcados con una \"x\" de color amarillo. Como se puede observar, no hay una separación clara entre los clusters. Además, por la cantidad de observaciones, colocarle una etiqueta a cada una de ellas correspondiente con el nombre del pokémon haría que este gráfico fuese ilegible por lo que, a continuación, se va explorar graficando un par de clusters en su individualidad para conocer los pokémon que fueron agrupados. "
      ]
    },
    {
      "cell_type": "code",
      "metadata": {
        "colab": {
          "base_uri": "https://localhost:8080/",
          "height": 714
        },
        "id": "z8K9D7G_cIpa",
        "outputId": "1691ee2f-ab97-4d99-b95f-2750267f792f"
      },
      "source": [
        "plt.figure( figsize=(12, 12) )\n",
        "plt.xlabel(\"Principal Component 1\")\n",
        "plt.ylabel(\"Principal Component 2\")\n",
        "plt.scatter( cluster_centers_reduced.loc[:, 0], cluster_centers_reduced.loc[:, 1], color = \"yellow\", marker=\"x\", s=100 )\n",
        "colors = ['tab:blue', 'tab:orange','tab:purple','tab:red','tab:green','tab:brown','tab:pink','tab:gray','tab:olive','tab:cyan']\n",
        "\n",
        "for cluster in clusters:\n",
        "    plt.scatter( df_reduced[df_reduced[\"cluster\"] == cluster].loc[: ,\"PC1\"], df_reduced[df_reduced[\"cluster\"] == cluster].loc[: ,\"PC2\"], color = colors[cluster])\n"
      ],
      "execution_count": null,
      "outputs": [
        {
          "output_type": "display_data",
          "data": {
            "image/png": "[encoded data removed]",
            "text/plain": [
              "<Figure size 864x864 with 1 Axes>"
            ]
          },
          "metadata": {
            "tags": [],
            "needs_background": "light"
          }
        }
      ]
    },
    {
      "cell_type": "markdown",
      "metadata": {
        "id": "Z4kZ0z9B7Smj"
      },
      "source": [
        "### **Cluster 6**\n",
        "En este cluster se incluyen pokémon de clasificación legendaria tales como Lunala, Solgaleo y Giratina. Como se observa, comparten estadísticos base similares que suman en total 680, por lo que un enfrentamiento entre estos, efectivamente, es balanceado. Cabe destacar que en este cluster (y en todos los demás) no todos los pokémon comparten el mismo total, por ejemplo, Jirachi tiene un total de 600 y pertenece a este cluster, y aun así  es un enfrentamiento factible y balanceado. \n",
        "\n",
        "<img src=\"https://cdn.discordapp.com/attachments/394414976200081412/868722703689981992/Cluster_6.png\"/>\n"
      ]
    },
    {
      "cell_type": "code",
      "metadata": {
        "colab": {
          "base_uri": "https://localhost:8080/",
          "height": 606
        },
        "id": "aObuWqCHxrm2",
        "outputId": "92639723-4324-4aaa-d16d-bff2468dc4a8"
      },
      "source": [
        "plt.figure( figsize=(10, 10) )\n",
        "plt.xlabel(\"Principal Component 1\")\n",
        "plt.ylabel(\"Principal Component 2\")\n",
        "cluster_points = df_reduced[df_reduced[\"cluster\"] == 6]\n",
        "\n",
        "for index, point in cluster_points.iterrows(): \n",
        "    plt.plot( point[\"PC1\"], point[\"PC2\"], \"bo\", color = colors[6] )\n",
        "    plt.annotate( point[\"name\"], (point[\"PC1\"], point[\"PC2\"]), fontsize = 12 )\n"
      ],
      "execution_count": null,
      "outputs": [
        {
          "output_type": "display_data",
          "data": {
            "image/png": "[encoded data removed]",
            "text/plain": [
              "<Figure size 720x720 with 1 Axes>"
            ]
          },
          "metadata": {
            "tags": [],
            "needs_background": "light"
          }
        }
      ]
    },
    {
      "cell_type": "markdown",
      "metadata": {
        "id": "oWdR9wGiAaOM"
      },
      "source": [
        "### **Cluster 9**\n",
        "En este cluster se incluyen pokémon también de clasificación legendaria tales como Articuno, Entei y Registeel, pero cuyos estadísticos base son menores que los del cluster 6 y suman 580, por lo que tiene sentido que no formen parte del mismo. Un enfrentamiento entre estos también es balanceado.\n",
        "\n",
        "<img src=\"https://cdn.discordapp.com/attachments/394414976200081412/868724488387301376/unknown.png\"/>\n"
      ]
    },
    {
      "cell_type": "code",
      "metadata": {
        "colab": {
          "base_uri": "https://localhost:8080/",
          "height": 606
        },
        "id": "FZiGWewyAgUA",
        "outputId": "5385023f-3c8b-44a4-a794-6b59477bef57"
      },
      "source": [
        "plt.figure( figsize=(10, 10) )\n",
        "plt.xlabel(\"Principal Component 1\")\n",
        "plt.ylabel(\"Principal Component 2\")\n",
        "cluster_points = df_reduced[df_reduced[\"cluster\"] == 9]\n",
        "\n",
        "for index, point in cluster_points.iterrows(): \n",
        "    plt.plot( point[\"PC1\"], point[\"PC2\"], \"bo\", color = colors[9] )\n",
        "    plt.annotate( point[\"name\"], (point[\"PC1\"], point[\"PC2\"]), fontsize = 12 )"
      ],
      "execution_count": null,
      "outputs": [
        {
          "output_type": "display_data",
          "data": {
            "image/png": "[encoded data removed]",
            "text/plain": [
              "<Figure size 720x720 with 1 Axes>"
            ]
          },
          "metadata": {
            "tags": [],
            "needs_background": "light"
          }
        }
      ]
    },
    {
      "cell_type": "markdown",
      "metadata": {
        "id": "zypUB07VhJhz"
      },
      "source": [
        "# **Agglomerative Clustering**"
      ]
    },
    {
      "cell_type": "markdown",
      "metadata": {
        "id": "O1BSqJi_izWQ"
      },
      "source": [
        "## **Tunning de hiperparámetros**\n",
        "De forma análoga al algoritmo de K-Means, se obtuvo los mejores resultados con 10 clusters, sin embargo, en cuanto a los parámetros de *affinity* y *linkage* se mostraron resultados similares con distintas combinaciones de estos, por ejemplo:\n",
        "- euclidean affinity - ward linkage (0.9569998126315652)\n",
        "- l1 affinity - complete linkage (0.9568852809133364)\n",
        "- l2 affinity - complete linkage (0.9568852809133364) \n",
        " \n",
        "Como se observa, la primera combinación es mejor, pero no por mucho.\n",
        "\n"
      ]
    },
    {
      "cell_type": "code",
      "metadata": {
        "id": "MiaSAR2IZgC-"
      },
      "source": [
        "from sklearn.cluster import AgglomerativeClustering"
      ],
      "execution_count": null,
      "outputs": []
    },
    {
      "cell_type": "code",
      "metadata": {
        "colab": {
          "base_uri": "https://localhost:8080/"
        },
        "id": "4j4P_hwIcQcg",
        "outputId": "785e1995-99c6-4df4-8cf1-eec21de44bfa"
      },
      "source": [
        "num_clusters_list = [2, 5, 10, 15]\n",
        "affinity_list = [ \"euclidean\", \"l1\", \"l2\", \"manhattan\", \"cosine\", \"precomputed\"]\n",
        "linkage_list = [\"ward\", \"complete\", \"average\", \"single\"]\n",
        "\n",
        "for num_clusters in num_clusters_list:\n",
        "  for affinity in affinity_list:\n",
        "    for linkage in linkage_list:\n",
        "      try:\n",
        "        labels = AgglomerativeClustering(n_clusters=num_clusters, affinity=affinity, linkage= linkage).fit_predict(df)\n",
        "        avg_silhouette = silhouette_score(df, labels)\n",
        "        print(f\"> {num_clusters} clusters - {affinity} affinity - {linkage} linkage ({avg_silhouette})\")\n",
        "      except:\n",
        "        pass\n",
        "  print()"
      ],
      "execution_count": null,
      "outputs": [
        {
          "output_type": "stream",
          "text": [
            "> 2 clusters - euclidean affinity - ward linkage (0.7491117881574775)\n",
            "> 2 clusters - euclidean affinity - complete linkage (0.6771108888076072)\n",
            "> 2 clusters - euclidean affinity - average linkage (0.7462157716400087)\n",
            "> 2 clusters - euclidean affinity - single linkage (0.7462157716400087)\n",
            "> 2 clusters - l1 affinity - complete linkage (0.6771108888076072)\n",
            "> 2 clusters - l1 affinity - average linkage (0.7462157716400087)\n",
            "> 2 clusters - l1 affinity - single linkage (0.7462157716400087)\n",
            "> 2 clusters - l2 affinity - complete linkage (0.6771108888076072)\n",
            "> 2 clusters - l2 affinity - average linkage (0.7462157716400087)\n",
            "> 2 clusters - l2 affinity - single linkage (0.7462157716400087)\n",
            "> 2 clusters - manhattan affinity - complete linkage (0.6771108888076072)\n",
            "> 2 clusters - manhattan affinity - average linkage (0.7462157716400087)\n",
            "> 2 clusters - manhattan affinity - single linkage (0.7462157716400087)\n",
            "> 2 clusters - cosine affinity - complete linkage (0.30817626600260234)\n",
            "> 2 clusters - cosine affinity - average linkage (0.30817626600260234)\n",
            "> 2 clusters - cosine affinity - single linkage (0.30817626600260234)\n",
            "\n",
            "> 5 clusters - euclidean affinity - ward linkage (0.8889412955149546)\n",
            "> 5 clusters - euclidean affinity - complete linkage (0.8889412955149546)\n",
            "> 5 clusters - euclidean affinity - average linkage (0.8889412955149546)\n",
            "> 5 clusters - euclidean affinity - single linkage (0.8889412955149546)\n",
            "> 5 clusters - l1 affinity - complete linkage (0.8889412955149546)\n",
            "> 5 clusters - l1 affinity - average linkage (0.8889412955149546)\n",
            "> 5 clusters - l1 affinity - single linkage (0.8889412955149546)\n",
            "> 5 clusters - l2 affinity - complete linkage (0.8889412955149546)\n",
            "> 5 clusters - l2 affinity - average linkage (0.8889412955149546)\n",
            "> 5 clusters - l2 affinity - single linkage (0.8889412955149546)\n",
            "> 5 clusters - manhattan affinity - complete linkage (0.8889412955149546)\n",
            "> 5 clusters - manhattan affinity - average linkage (0.8889412955149546)\n",
            "> 5 clusters - manhattan affinity - single linkage (0.8889412955149546)\n",
            "> 5 clusters - cosine affinity - complete linkage (-0.32639701508482033)\n",
            "> 5 clusters - cosine affinity - average linkage (-0.38531958012476925)\n",
            "> 5 clusters - cosine affinity - single linkage (-0.3861717937294459)\n",
            "\n",
            "> 10 clusters - euclidean affinity - ward linkage (0.9569998126315652)\n",
            "> 10 clusters - euclidean affinity - complete linkage (0.9568852809133364)\n",
            "> 10 clusters - euclidean affinity - average linkage (0.9320345958610479)\n",
            "> 10 clusters - euclidean affinity - single linkage (0.9320345958610479)\n",
            "> 10 clusters - l1 affinity - complete linkage (0.9568852809133364)\n",
            "> 10 clusters - l1 affinity - average linkage (0.9320345958610479)\n",
            "> 10 clusters - l1 affinity - single linkage (0.9320345958610479)\n",
            "> 10 clusters - l2 affinity - complete linkage (0.9568852809133364)\n",
            "> 10 clusters - l2 affinity - average linkage (0.9320345958610479)\n",
            "> 10 clusters - l2 affinity - single linkage (0.9320345958610479)\n",
            "> 10 clusters - manhattan affinity - complete linkage (0.9568852809133364)\n",
            "> 10 clusters - manhattan affinity - average linkage (0.9320345958610479)\n",
            "> 10 clusters - manhattan affinity - single linkage (0.9320345958610479)\n",
            "> 10 clusters - cosine affinity - complete linkage (-0.5980204021971149)\n",
            "> 10 clusters - cosine affinity - average linkage (-0.6309216013613506)\n",
            "> 10 clusters - cosine affinity - single linkage (-0.6012689847672297)\n",
            "\n",
            "> 15 clusters - euclidean affinity - ward linkage (0.7960409989719122)\n",
            "> 15 clusters - euclidean affinity - complete linkage (0.7936740919586758)\n",
            "> 15 clusters - euclidean affinity - average linkage (0.8261332012182501)\n",
            "> 15 clusters - euclidean affinity - single linkage (0.9237358797276725)\n",
            "> 15 clusters - l1 affinity - complete linkage (0.7936740919586758)\n",
            "> 15 clusters - l1 affinity - average linkage (0.8252673333325259)\n",
            "> 15 clusters - l1 affinity - single linkage (0.9237358797276725)\n",
            "> 15 clusters - l2 affinity - complete linkage (0.7936740919586758)\n",
            "> 15 clusters - l2 affinity - average linkage (0.8261332012182501)\n",
            "> 15 clusters - l2 affinity - single linkage (0.9237358797276725)\n",
            "> 15 clusters - manhattan affinity - complete linkage (0.7936740919586758)\n",
            "> 15 clusters - manhattan affinity - average linkage (0.8252673333325259)\n",
            "> 15 clusters - manhattan affinity - single linkage (0.9237358797276725)\n",
            "> 15 clusters - cosine affinity - complete linkage (-0.6199793558218456)\n",
            "> 15 clusters - cosine affinity - average linkage (-0.6151770282857297)\n",
            "> 15 clusters - cosine affinity - single linkage (-0.5782351967928552)\n",
            "\n"
          ],
          "name": "stdout"
        }
      ]
    },
    {
      "cell_type": "markdown",
      "metadata": {
        "id": "j2nPPG1vi3E_"
      },
      "source": [
        "## **Implementación de modelo**"
      ]
    },
    {
      "cell_type": "code",
      "metadata": {
        "id": "zeauJ-76VpDC"
      },
      "source": [
        "from scipy.cluster.hierarchy import dendrogram\n",
        "from numpy import zeros, column_stack"
      ],
      "execution_count": null,
      "outputs": []
    },
    {
      "cell_type": "code",
      "metadata": {
        "id": "XDM1rRWHXlPk"
      },
      "source": [
        "pip install --upgrade scikit-learn"
      ],
      "execution_count": null,
      "outputs": []
    },
    {
      "cell_type": "code",
      "metadata": {
        "colab": {
          "base_uri": "https://localhost:8080/"
        },
        "id": "PPU_vo7vi72M",
        "outputId": "5cff4b71-2a05-4ed1-f1f7-88f06322cfc9"
      },
      "source": [
        "model = AgglomerativeClustering(n_clusters= 10, affinity= \"euclidean\", linkage= \"ward\",  compute_distances=True).fit(df)\n",
        "avg_silhouette = silhouette_score(df, model.labels_)\n",
        "print(f\"> 10 clusters - euclidean affinity - ward linkage ({avg_silhouette})\")"
      ],
      "execution_count": null,
      "outputs": [
        {
          "output_type": "stream",
          "text": [
            "> 10 clusters - euclidean affinity - ward linkage (0.9569998126315652)\n"
          ],
          "name": "stdout"
        }
      ]
    },
    {
      "cell_type": "code",
      "metadata": {
        "colab": {
          "base_uri": "https://localhost:8080/",
          "height": 721
        },
        "id": "0RYyzESQVu62",
        "outputId": "4a3743af-d3da-48fc-9848-56e15cb66899"
      },
      "source": [
        "counts = zeros(model.children_.shape[0])\n",
        "n_samples = len(model.labels_)\n",
        "\n",
        "for i, merge in enumerate(model.children_):\n",
        "    current_count = 0\n",
        "    for child_idx in merge:\n",
        "        if child_idx < n_samples:\n",
        "            current_count += 1  # leaf node\n",
        "        else:\n",
        "            current_count += counts[child_idx - n_samples]\n",
        "    counts[i] = current_count\n",
        "\n",
        "linkage_matrix = column_stack([model.children_, model.distances_, counts]).astype(float)\n",
        "\n",
        "dendrogram(linkage_matrix, truncate_mode='level', p=2)"
      ],
      "execution_count": null,
      "outputs": [
        {
          "output_type": "execute_result",
          "data": {
            "text/plain": [
              "{'color_list': ['g', 'g', 'g', 'r', 'r', 'r', 'b'],\n",
              " 'dcoord': [[0.0, 10714.097374460833, 10714.097374460833, 0.0],\n",
              "  [0.0, 189736.3332185082, 189736.3332185082, 0.0],\n",
              "  [10714.097374460833,\n",
              "   1984994.2272923538,\n",
              "   1984994.2272923538,\n",
              "   189736.3332185082],\n",
              "  [0.0, 950305.1518884901, 950305.1518884901, 0.0],\n",
              "  [0.0, 1124108.390832631, 1124108.390832631, 0.0],\n",
              "  [950305.1518884901,\n",
              "   3255390.7430601777,\n",
              "   3255390.7430601777,\n",
              "   1124108.390832631],\n",
              "  [1984994.2272923538,\n",
              "   4940624.118815688,\n",
              "   4940624.118815688,\n",
              "   3255390.7430601777]],\n",
              " 'icoord': [[5.0, 5.0, 15.0, 15.0],\n",
              "  [25.0, 25.0, 35.0, 35.0],\n",
              "  [10.0, 10.0, 30.0, 30.0],\n",
              "  [45.0, 45.0, 55.0, 55.0],\n",
              "  [65.0, 65.0, 75.0, 75.0],\n",
              "  [50.0, 50.0, 70.0, 70.0],\n",
              "  [20.0, 20.0, 60.0, 60.0]],\n",
              " 'ivl': ['(10)', '(4)', '(110)', '(62)', '(335)', '(202)', '(22)', '(56)'],\n",
              " 'leaves': [1572, 1574, 1592, 1593, 1591, 1594, 1584, 1590]}"
            ]
          },
          "metadata": {
            "tags": []
          },
          "execution_count": 52
        },
        {
          "output_type": "display_data",
          "data": {
            "image/png": "[encoded data removed]",
            "text/plain": [
              "<Figure size 432x288 with 1 Axes>"
            ]
          },
          "metadata": {
            "tags": [],
            "needs_background": "light"
          }
        }
      ]
    }
  ]
}