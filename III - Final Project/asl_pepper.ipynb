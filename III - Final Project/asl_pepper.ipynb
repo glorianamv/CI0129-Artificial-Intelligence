{
  "nbformat": 4,
  "nbformat_minor": 0,
  "metadata": {
    "colab": {
      "name": "Robotica.ipynb",
      "provenance": [],
      "collapsed_sections": []
    },
    "kernelspec": {
      "name": "python3",
      "display_name": "Python 3"
    },
    "accelerator": "GPU"
  },
  "cells": [
    {
      "cell_type": "markdown",
      "metadata": {
        "id": "PS8CYMP7YC1p",
        "colab_type": "text"
      },
      "source": [
        "# **ASL Pepper**"
      ]
    },
    {
      "cell_type": "markdown",
      "metadata": {
        "id": "pCgF1Ru61TuO",
        "colab_type": "text"
      },
      "source": [
        "# **Carga del dataset**"
      ]
    },
    {
      "cell_type": "markdown",
      "metadata": {
        "id": "U6gB8ZGsohJI",
        "colab_type": "text"
      },
      "source": [
        "Se conecta el drive al colab para poder sacar las imagenes del dataset y trabajar con ellas."
      ]
    },
    {
      "cell_type": "code",
      "metadata": {
        "id": "SqNfpsbCGZlM",
        "colab_type": "code",
        "colab": {}
      },
      "source": [
        "import os\n",
        "import tensorflow as tf\n",
        "import numpy as np\n",
        "import matplotlib.pyplot as plt\n",
        "import seaborn as sns\n",
        "import math\n",
        "\n",
        "from google.colab import drive\n",
        "from tensorflow.keras.preprocessing.image import ImageDataGenerator\n",
        "from tensorflow.keras.optimizers import Adam\n",
        "from sklearn.metrics import classification_report\n",
        "from sklearn.metrics import confusion_matrix\n",
        "from matplotlib.colors import ListedColormap"
      ],
      "execution_count": null,
      "outputs": []
    },
    {
      "cell_type": "code",
      "metadata": {
        "id": "TmjYOmpVg9Jf",
        "colab_type": "code",
        "colab": {}
      },
      "source": [
        "drive.mount('/content/gdrive', force_remount=True)"
      ],
      "execution_count": null,
      "outputs": []
    },
    {
      "cell_type": "markdown",
      "metadata": {
        "id": "yU7mgVNctTDR",
        "colab_type": "text"
      },
      "source": [
        "Se descarga el dataset directamente de Kaggle."
      ]
    },
    {
      "cell_type": "code",
      "metadata": {
        "id": "K1hBEWTutFZK",
        "colab_type": "code",
        "colab": {}
      },
      "source": [
        "os.environ['KAGGLE_CONFIG_DIR'] = \"/content/gdrive/My Drive/token/\"\n",
        "#/content/gdrive/My Drive/token/ is the path where kaggle.json is present in the Google Drive\n",
        "\n",
        "#changing the working directory\n",
        "%cd /content/\n",
        "\n",
        "#downloading the dataset\n",
        "!kaggle datasets download -d grassknoted/asl-alphabet\n",
        "!ls\n",
        "!unzip \\*.zip  && rm *.zip\n"
      ],
      "execution_count": null,
      "outputs": []
    },
    {
      "cell_type": "markdown",
      "metadata": {
        "id": "ma6XsTkdyX8P",
        "colab_type": "text"
      },
      "source": [
        "Confirmando que exista el directorio "
      ]
    },
    {
      "cell_type": "code",
      "metadata": {
        "id": "4w_grlLN4hY9",
        "colab_type": "code",
        "colab": {}
      },
      "source": [
        "!ls"
      ],
      "execution_count": null,
      "outputs": []
    },
    {
      "cell_type": "markdown",
      "metadata": {
        "id": "Wvl2HvampFq8",
        "colab_type": "text"
      },
      "source": [
        "Se procede a cargar las imagenes del directorio de entrenamiento y dividirlo en 2 subconjuntos, el conjunto de entrenamiento y el conjunto de validación."
      ]
    },
    {
      "cell_type": "code",
      "metadata": {
        "id": "z5whG2skgMyp",
        "colab_type": "code",
        "colab": {}
      },
      "source": [
        "#Constants\n",
        "LR = 0.0001\n",
        "EPOCHS = 15\n",
        "BATCH_SIZE = 64"
      ],
      "execution_count": 5,
      "outputs": []
    },
    {
      "cell_type": "code",
      "metadata": {
        "id": "7qvb3WHDUcxa",
        "colab_type": "code",
        "colab": {
          "base_uri": "https://localhost:8080/",
          "height": 85
        },
        "outputId": "2b7de195-30c5-47af-e9aa-d90c6ce3802d"
      },
      "source": [
        "train_dir = r'/content/asl_alphabet_train/asl_alphabet_train/'\n",
        "\n",
        "unique_labels = sorted(os.listdir(train_dir))\n",
        "print(unique_labels)\n",
        "\n",
        "data_gen=ImageDataGenerator(\n",
        "          rescale = 1./255.,\n",
        "          validation_split=0.2)\n",
        "\n",
        "train_gen = data_gen.flow_from_directory(train_dir, target_size=(128, 128), color_mode = 'grayscale', class_mode='categorical', batch_size=BATCH_SIZE, subset='training')\n",
        "validation_gen = data_gen.flow_from_directory(train_dir, target_size=(128, 128), color_mode = 'grayscale', class_mode='categorical', batch_size=BATCH_SIZE, subset='validation')\n",
        "\n",
        "'''\n",
        "x,y= train_gen.next()\n",
        "for i in range(0,64):\n",
        "    image = x[i].reshape((128,128))\n",
        "    plt.imshow(image, cmap = 'gray', vmin = 0, vmax = 255)\n",
        "    plt.show()\n",
        "'''"
      ],
      "execution_count": 6,
      "outputs": [
        {
          "output_type": "stream",
          "text": [
            "['A', 'B', 'C', 'D', 'E', 'F', 'G', 'H', 'I', 'J', 'K', 'L', 'M', 'N', 'O', 'P', 'Q', 'R', 'S', 'T', 'U', 'V', 'W', 'X', 'Y', 'Z', 'del', 'nothing', 'space']\n",
            "Found 69600 images belonging to 29 classes.\n",
            "Found 17400 images belonging to 29 classes.\n"
          ],
          "name": "stdout"
        },
        {
          "output_type": "execute_result",
          "data": {
            "text/plain": [
              "\"\\nx,y= train_gen.next()\\nfor i in range(0,64):\\n    image = x[i].reshape((128,128))\\n    plt.imshow(image, cmap = 'gray', vmin = 0, vmax = 255)\\n    plt.show()\\n\""
            ]
          },
          "metadata": {
            "tags": []
          },
          "execution_count": 6
        }
      ]
    },
    {
      "cell_type": "markdown",
      "metadata": {
        "id": "pD-YfJEUQYfp",
        "colab_type": "text"
      },
      "source": [
        "# **Creación y entrenamiento de la red neuronal**"
      ]
    },
    {
      "cell_type": "markdown",
      "metadata": {
        "id": "CYNNIn0RyirS",
        "colab_type": "text"
      },
      "source": [
        "### **Creación de la red neuronal**"
      ]
    },
    {
      "cell_type": "code",
      "metadata": {
        "id": "YKu4M-c7TuHN",
        "colab_type": "code",
        "colab": {}
      },
      "source": [
        "model = tf.keras.models.Sequential([\n",
        "        tf.keras.layers.Conv2D(filters = 32, kernel_size = (2,2), strides = (2,2), activation = 'relu', input_shape = (128,128,1)),\n",
        "        tf.keras.layers.BatchNormalization(),\n",
        "        tf.keras.layers.MaxPooling2D(pool_size = (1,1), strides = (2,2)),\n",
        "        tf.keras.layers.Conv2D(filters = 32, kernel_size = (2,2), strides = (2,2), activation = 'relu'),\n",
        "        tf.keras.layers.BatchNormalization(),\n",
        "        tf.keras.layers.MaxPooling2D(pool_size = (1,1), strides = (2,2)),\n",
        "        tf.keras.layers.Conv2D(filters = 64, kernel_size = (2,2), strides = (2,2), activation = 'relu'),\n",
        "        tf.keras.layers.BatchNormalization(),\n",
        "        tf.keras.layers.MaxPooling2D(pool_size = (1,1), strides = (2,2)),\n",
        "        tf.keras.layers.Conv2D(filters = 64, kernel_size = (2,2), strides = (2,2), activation = 'relu'),\n",
        "        tf.keras.layers.BatchNormalization(),\n",
        "        tf.keras.layers.AveragePooling2D(pool_size = (1,1), strides = (2,2)),\n",
        "        tf.keras.layers.Flatten(),\n",
        "        tf.keras.layers.Dense(units = 128, activation = 'relu'),\n",
        "        tf.keras.layers.Dropout(0.5),\n",
        "        tf.keras.layers.Dense(units = 29, activation = 'softmax')\n",
        "])\n",
        "model.summary()"
      ],
      "execution_count": null,
      "outputs": []
    },
    {
      "cell_type": "markdown",
      "metadata": {
        "id": "z5qXdNxXywl9",
        "colab_type": "text"
      },
      "source": [
        "### **Entrenamiento de la red neuronal**"
      ]
    },
    {
      "cell_type": "code",
      "metadata": {
        "id": "hIwTFZux-goK",
        "colab_type": "code",
        "colab": {}
      },
      "source": [
        "from keras import backend as K\n",
        "def recall(y_true, y_pred):\n",
        "    y_true = K.ones_like(y_true) \n",
        "    true_positives = K.sum(K.round(K.clip(y_true * y_pred, 0, 1)))\n",
        "    all_positives = K.sum(K.round(K.clip(y_true, 0, 1)))\n",
        "    \n",
        "    recall_v = true_positives / (all_positives + K.epsilon())\n",
        "    return recall_v\n",
        "\n",
        "def precision(y_true, y_pred):\n",
        "    y_true = K.ones_like(y_true) \n",
        "    true_positives = K.sum(K.round(K.clip(y_true * y_pred, 0, 1)))\n",
        "    \n",
        "    predicted_positives = K.sum(K.round(K.clip(y_pred, 0, 1)))\n",
        "    precision_v = true_positives / (predicted_positives + K.epsilon())\n",
        "    return precision_v\n",
        "\n",
        "def f1_scorer(y_true, y_pred):\n",
        "    precision_m = precision(y_true, y_pred)\n",
        "    recall_m = recall(y_true, y_pred)\n",
        "    return 2*((precision_m*recall_m)/(precision_m+recall_m+K.epsilon()))"
      ],
      "execution_count": 12,
      "outputs": []
    },
    {
      "cell_type": "code",
      "metadata": {
        "id": "M6B-XCvcIyMg",
        "colab_type": "code",
        "colab": {}
      },
      "source": [
        "adam_opt = Adam(learning_rate = LR)\n",
        "\n",
        "model.compile(optimizer = adam_opt, loss = 'categorical_crossentropy', metrics = ['accuracy', f1_scorer, precision, recall])"
      ],
      "execution_count": 13,
      "outputs": []
    },
    {
      "cell_type": "code",
      "metadata": {
        "id": "UCuq1psTyz6d",
        "colab_type": "code",
        "colab": {}
      },
      "source": [
        "model.fit(x = train_gen,\n",
        "          validation_data = validation_gen,\n",
        "          steps_per_epoch = math.ceil(train_gen.n / BATCH_SIZE),\n",
        "          epochs = EPOCHS,\n",
        "          validation_steps = math.ceil(validation_gen.n / BATCH_SIZE),\n",
        "          verbose = 1)"
      ],
      "execution_count": null,
      "outputs": []
    },
    {
      "cell_type": "markdown",
      "metadata": {
        "id": "2sUa8kkFy5PC",
        "colab_type": "text"
      },
      "source": [
        "## **Almacenamiento del modelo**"
      ]
    },
    {
      "cell_type": "code",
      "metadata": {
        "id": "hQomjWwaRbmb",
        "colab_type": "code",
        "colab": {}
      },
      "source": [
        "model.save('/content/gdrive/My Drive/Token/my_model.h5')"
      ],
      "execution_count": null,
      "outputs": []
    },
    {
      "cell_type": "markdown",
      "metadata": {
        "id": "zN3i-un7jFZr",
        "colab_type": "text"
      },
      "source": [
        "# **Predicción del conjunto de pruebas y medición del desempeño**"
      ]
    },
    {
      "cell_type": "markdown",
      "metadata": {
        "id": "vYleKFD5nTkd",
        "colab_type": "text"
      },
      "source": [
        "### **Classification report para el conjunto de entrenamiento**"
      ]
    },
    {
      "cell_type": "code",
      "metadata": {
        "id": "kHcqR_hHLomN",
        "colab_type": "code",
        "colab": {}
      },
      "source": [
        "labels = []\n",
        "for i in range(0, 29):\n",
        "  labels.append(i)"
      ],
      "execution_count": 15,
      "outputs": []
    },
    {
      "cell_type": "code",
      "metadata": {
        "id": "4WBGal-PjCZb",
        "colab_type": "code",
        "colab": {}
      },
      "source": [
        "y_true_train = train_gen.classes\n",
        "y_pred_train = model.predict(train_gen)\n",
        "y_pred_max_train = np.argmax(y_pred_train, axis=1)\n",
        "\n",
        "train_score = classification_report(y_true = y_true_train, y_pred = y_pred_max_train, labels = labels, target_names = unique_labels)\n",
        "\n",
        "print(train_score)"
      ],
      "execution_count": null,
      "outputs": []
    },
    {
      "cell_type": "markdown",
      "metadata": {
        "colab_type": "text",
        "id": "6rnCD4hOKjT3"
      },
      "source": [
        "### **Classification report para el conjunto de pruebas**"
      ]
    },
    {
      "cell_type": "code",
      "metadata": {
        "id": "DMymvneJKGMI",
        "colab_type": "code",
        "colab": {}
      },
      "source": [
        "y_true_test = validation_gen.classes\n",
        "y_pred_test = model.predict(validation_gen)\n",
        "y_pred_max_test = np.argmax(y_pred_test, axis=1)\n",
        "\n",
        "test_score = classification_report(y_true = y_true_test, y_pred = y_pred_max_test, labels = labels, target_names = unique_labels)\n",
        "\n",
        "print(test_score)"
      ],
      "execution_count": null,
      "outputs": []
    },
    {
      "cell_type": "code",
      "metadata": {
        "id": "kvDkITWnZvmy",
        "colab_type": "code",
        "colab": {}
      },
      "source": [
        "colors = [\"#FFFFFF\"]\n",
        "customPalette = sns.set_palette(sns.color_palette(colors))"
      ],
      "execution_count": 18,
      "outputs": []
    },
    {
      "cell_type": "markdown",
      "metadata": {
        "id": "MPa4fODPnfw6",
        "colab_type": "text"
      },
      "source": [
        "### **Confusion matrix para el conjunto de entrenamiento**"
      ]
    },
    {
      "cell_type": "code",
      "metadata": {
        "id": "H3sLiXsYWP17",
        "colab_type": "code",
        "colab": {}
      },
      "source": [
        "c_matrix_train = confusion_matrix(y_true_train, y_pred_max_train, labels=labels)\n",
        "\n",
        "plt.figure(figsize = (20,20))\n",
        "sns.heatmap(c_matrix_train, annot=True, fmt = \"d\", cmap = ListedColormap(['white']), linewidths = 0.01, linecolor = \"black\", cbar = False, square = True, xticklabels = unique_labels, yticklabels = unique_labels)\n",
        "plt.show()"
      ],
      "execution_count": null,
      "outputs": []
    },
    {
      "cell_type": "markdown",
      "metadata": {
        "id": "QFC185MeWA2g",
        "colab_type": "text"
      },
      "source": [
        "### **Confusion matrix para el conjunto de pruebas**"
      ]
    },
    {
      "cell_type": "code",
      "metadata": {
        "id": "oY2O0tD-m7K5",
        "colab_type": "code",
        "colab": {}
      },
      "source": [
        "c_matrix_test = confusion_matrix(y_true_test, y_pred_max_test, labels=labels)\n",
        "\n",
        "plt.figure(figsize = (20,20))\n",
        "sns.heatmap(c_matrix_test, annot=True, fmt = \"d\", cmap = ListedColormap(['white']), linewidths = 0.01, linecolor = \"black\", cbar = False, square = True, xticklabels = unique_labels, yticklabels = unique_labels)\n",
        "plt.show()"
      ],
      "execution_count": null,
      "outputs": []
    }
  ]
}